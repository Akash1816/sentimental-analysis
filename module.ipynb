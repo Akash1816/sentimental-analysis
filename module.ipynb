import pandas
df=pandas.read_csv(r'D:\project\mini project\archive\Dataset-SA.csv')

from sklearn.model_selection import train_test_split
from sklearn.feature_extraction.text import CountVectorizer
from sklearn.ensemble import RandomForestClassifier

df=df.sample(n=50000)
x=df['Summary'].fillna("")
y=df['Sentiment'].fillna("")
x_train,x_test,y_train,y_test=train_test_split(x,y,train_size=0.7,random_state=42)

vec=CountVectorizer()
X_train=vec.fit_transform(x_train)
X_test=vec.transform(x_test)

from sklearn.preprocessing import LabelEncoder

enc=LabelEncoder()
Y_train=enc.fit_transform(y_train)
Y_test=enc.transform(y_test)

rfc=RandomForestClassifier()
rfc.fit(X_train,y_train)
rfc.predict(X_test)



    
    